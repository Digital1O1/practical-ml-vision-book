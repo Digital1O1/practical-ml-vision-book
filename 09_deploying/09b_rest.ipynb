{
 "cells": [
  {
   "cell_type": "code",
   "execution_count": 2,
   "metadata": {
    "colab": {
     "base_uri": "https://localhost:8080/",
     "height": 72
    },
    "id": "hiQ6zAoYhyaA",
    "outputId": "0acee878-1207-42c3-9bee-a594acd44365"
   },
   "outputs": [
    {
     "data": {
      "text/markdown": [
       "\n",
       "<table class=\"tfo-notebook-buttons\" align=\"left\">\n",
       "  <td>\n",
       "    <a target=\"_blank\" href=\"https://console.cloud.google.com/ai-platform/notebooks/deploy-notebook?name=Predictions using a REST endpoint&url=https%3A%2F%2Fgithub.com%2FGoogleCloudPlatform%2Fpractical-ml-vision-book%2Fblob%2Fmaster%2F09_deploying%2F09b_rest.ipynb&download_url=https%3A%2F%2Fgithub.com%2FGoogleCloudPlatform%2Fpractical-ml-vision-book%2Fraw%2Fmaster%2F09_deploying%2F09b_rest.ipynb\">\n",
       "    <img src=\"https://raw.githubusercontent.com/GoogleCloudPlatform/practical-ml-vision-book/master/logo-cloud.png\"/> Run in AI Platform Notebook</a>\n",
       "  </td>\n",
       "  </td>\n",
       "  <td>\n",
       "    <a target=\"_blank\" href=\"https://colab.research.google.com/github/GoogleCloudPlatform/practical-ml-vision-book/blob/master/09_deploying/09b_rest.ipynb\">\n",
       "    <img src=\"https://www.tensorflow.org/images/colab_logo_32px.png\" />Run in Google Colab</a>\n",
       "  </td>\n",
       "  <td>\n",
       "    <a target=\"_blank\" href=\"https://github.com/GoogleCloudPlatform/practical-ml-vision-book/blob/master/09_deploying/09b_rest.ipynb\">\n",
       "    <img src=\"https://www.tensorflow.org/images/GitHub-Mark-32px.png\" />View source on GitHub</a>\n",
       "  </td>\n",
       "  <td>\n",
       "    <a href=\"https://raw.githubusercontent.com/GoogleCloudPlatform/practical-ml-vision-book/master/09_deploying/09b_rest.ipynb\">\n",
       "    <img src=\"https://www.tensorflow.org/images/download_logo_32px.png\" />Download notebook</a>\n",
       "  </td>\n",
       "</table>\n"
      ],
      "text/plain": [
       "<IPython.core.display.Markdown object>"
      ]
     },
     "execution_count": 2,
     "metadata": {},
     "output_type": "execute_result"
    }
   ],
   "source": [
    "from IPython.display import Markdown as md\n",
    "\n",
    "### change to reflect your notebook\n",
    "_nb_loc = \"09_deploying/09b_rest.ipynb\"\n",
    "_nb_title = \"Predictions using a REST endpoint\"\n",
    "\n",
    "### no need to change any of this\n",
    "_nb_safeloc = _nb_loc.replace('/', '%2F')\n",
    "md(\"\"\"\n",
    "<table class=\"tfo-notebook-buttons\" align=\"left\">\n",
    "  <td>\n",
    "    <a target=\"_blank\" href=\"https://console.cloud.google.com/ai-platform/notebooks/deploy-notebook?name={1}&url=https%3A%2F%2Fgithub.com%2FGoogleCloudPlatform%2Fpractical-ml-vision-book%2Fblob%2Fmaster%2F{2}&download_url=https%3A%2F%2Fgithub.com%2FGoogleCloudPlatform%2Fpractical-ml-vision-book%2Fraw%2Fmaster%2F{2}\">\n",
    "    <img src=\"https://raw.githubusercontent.com/GoogleCloudPlatform/practical-ml-vision-book/master/logo-cloud.png\"/> Run in AI Platform Notebook</a>\n",
    "  </td>\n",
    "  </td>\n",
    "  <td>\n",
    "    <a target=\"_blank\" href=\"https://colab.research.google.com/github/GoogleCloudPlatform/practical-ml-vision-book/blob/master/{0}\">\n",
    "    <img src=\"https://www.tensorflow.org/images/colab_logo_32px.png\" />Run in Google Colab</a>\n",
    "  </td>\n",
    "  <td>\n",
    "    <a target=\"_blank\" href=\"https://github.com/GoogleCloudPlatform/practical-ml-vision-book/blob/master/{0}\">\n",
    "    <img src=\"https://www.tensorflow.org/images/GitHub-Mark-32px.png\" />View source on GitHub</a>\n",
    "  </td>\n",
    "  <td>\n",
    "    <a href=\"https://raw.githubusercontent.com/GoogleCloudPlatform/practical-ml-vision-book/master/{0}\">\n",
    "    <img src=\"https://www.tensorflow.org/images/download_logo_32px.png\" />Download notebook</a>\n",
    "  </td>\n",
    "</table>\n",
    "\"\"\".format(_nb_loc, _nb_title, _nb_safeloc))"
   ]
  },
  {
   "cell_type": "markdown",
   "metadata": {
    "id": "a8HQYsAtC0Fv"
   },
   "source": [
    "# Predictions using a REST endpoint\n",
    "\n",
    "In this notebook, we start from an already trained and saved model (as in Chapter 7).\n",
    "For convenience, we have put this model in a public bucket in gs://practical-ml-vision-book/flowers_5_trained\n",
    "\n",
    "We deploy this model to a REST endpoint, and then show how to invoke the model using POST operations."
   ]
  },
  {
   "cell_type": "markdown",
   "metadata": {},
   "source": [
    "## REST endpoint"
   ]
  },
  {
   "cell_type": "code",
   "execution_count": 3,
   "metadata": {},
   "outputs": [
    {
     "name": "stdout",
     "output_type": "stream",
     "text": [
      "#!/bin/bash\n",
      "\n",
      "MODEL_NAME=flowers\n",
      "VERSION_NAME=rest\n",
      "\n",
      "REGION='us-central1'  # make sure you have GPU/TPU quota in this region\n",
      "BUCKET='ai-analytics-solutions-kfpdemo' # for staging\n",
      "MODEL_LOCATION=\"gs://practical-ml-vision-book/flowers_5_trained\"\n",
      "\n",
      "if [[ $(gcloud ai-platform models list --format='value(name)' | grep $MODEL_NAME) ]]; then\n",
      "    echo \"The model named $MODEL_NAME already exists.\"\n",
      "else\n",
      "    # create model\n",
      "    echo \"Creating $MODEL_NAME model now.\"\n",
      "    gcloud ai-platform models create --regions=$REGION $MODEL_NAME\n",
      "fi\n",
      "\n",
      "if [[ $(gcloud ai-platform versions list --model $MODEL_NAME --format='value(name)' | grep $VERSION_NAME) ]]; then\n",
      "    echo \"Deleting already the existing model $MODEL_NAME:$VERSION_NAME ... \"\n",
      "    gcloud ai-platform versions delete --model=$MODEL_NAME $VERSION_NAME\n",
      "    echo \"Please run this script again if you don't see a Creating message ... \"\n",
      "    sleep 2\n",
      "fi\n",
      "\n",
      "# create model\n",
      "echo \"Creating $MODEL_NAME:$VERSION_NAME\"\n",
      "gcloud ai-platform versions create --model=$MODEL_NAME $VERSION_NAME --async \\\n",
      "       --framework=tensorflow --python-version=3.7 --runtime-version=2.3 \\\n",
      "       --origin=$MODEL_LOCATION --staging-bucket=gs://$BUCKET\n"
     ]
    }
   ],
   "source": [
    "!cat ./caip_deploy.sh"
   ]
  },
  {
   "cell_type": "code",
   "execution_count": 44,
   "metadata": {},
   "outputs": [
    {
     "name": "stdout",
     "output_type": "stream",
     "text": [
      "Using endpoint [https://ml.googleapis.com/]\n",
      "The model named flowers already exists.\n",
      "Using endpoint [https://ml.googleapis.com/]\n",
      "Creating flowers:rest\n",
      "Using endpoint [https://ml.googleapis.com/]\n",
      "\n",
      "\n",
      "To take a quick anonymous survey, run:\n",
      "  $ gcloud survey\n",
      "\n"
     ]
    }
   ],
   "source": [
    "!./caip_deploy.sh"
   ]
  },
  {
   "cell_type": "markdown",
   "metadata": {},
   "source": [
    "## JSON request"
   ]
  },
  {
   "cell_type": "code",
   "execution_count": 4,
   "metadata": {},
   "outputs": [
    {
     "name": "stdout",
     "output_type": "stream",
     "text": [
      "Overwriting request.json\n"
     ]
    }
   ],
   "source": [
    "%%writefile request.json\n",
    "{\n",
    "    \"instances\": [\n",
    "        {\n",
    "            \"filenames\": \"gs://cloud-ml-data/img/flower_photos/dandelion/9818247_e2eac18894.jpg\"\n",
    "        },\n",
    "        {\n",
    "            \"filenames\": \"gs://cloud-ml-data/img/flower_photos/dandelion/9853885425_4a82356f1d_m.jpg\"\n",
    "        },\n",
    "        {\n",
    "            \"filenames\": \"gs://cloud-ml-data/img/flower_photos/daisy/9299302012_958c70564c_n.jpg\"\n",
    "        },\n",
    "        {\n",
    "            \"filenames\": \"gs://cloud-ml-data/img/flower_photos/tulips/8733586143_3139db6e9e_n.jpg\"\n",
    "        },\n",
    "        {\n",
    "            \"filenames\": \"gs://cloud-ml-data/img/flower_photos/tulips/8713397358_0505cc0176_n.jpg\"\n",
    "        }\n",
    "    ]\n",
    "}"
   ]
  },
  {
   "cell_type": "code",
   "execution_count": 5,
   "metadata": {},
   "outputs": [
    {
     "name": "stdout",
     "output_type": "stream",
     "text": [
      "Using endpoint [https://ml.googleapis.com/]\n",
      "FLOWER_TYPE_INT  FLOWER_TYPE_STR  PROBABILITY\n",
      "1                dandelion        0.619152\n",
      "1                dandelion        0.999984\n",
      "0                daisy            0.995083\n",
      "4                tulips           0.975186\n",
      "4                tulips           0.954917\n"
     ]
    }
   ],
   "source": [
    "!gcloud ai-platform predict --model=flowers --version=rest --json-request=request.json"
   ]
  },
  {
   "cell_type": "markdown",
   "metadata": {},
   "source": [
    "## sending over HTTP Post"
   ]
  },
  {
   "cell_type": "code",
   "execution_count": 6,
   "metadata": {},
   "outputs": [
    {
     "name": "stdout",
     "output_type": "stream",
     "text": [
      "b'{\"predictions\": [{\"flower_type_str\": \"dandelion\", \"flower_type_int\": 1, \"probability\": 0.6191519498825073}, {\"flower_type_str\": \"dandelion\", \"flower_type_int\": 1, \"probability\": 0.9999843835830688}, {\"flower_type_str\": \"daisy\", \"flower_type_int\": 0, \"probability\": 0.9950828552246094}, {\"flower_type_str\": \"tulips\", \"flower_type_int\": 4, \"probability\": 0.9751859307289124}, {\"flower_type_str\": \"tulips\", \"flower_type_int\": 4, \"probability\": 0.954916775226593}]}'\n"
     ]
    }
   ],
   "source": [
    "## invoke from Python\n",
    "from oauth2client.client import GoogleCredentials\n",
    "import requests\n",
    "import json\n",
    "\n",
    "PROJECT = 'ai-analytics-solutions' # CHANGE\n",
    "MODEL_NAME = 'flowers'\n",
    "MODEL_VERSION = 'rest'\n",
    "\n",
    "token = GoogleCredentials.get_application_default().get_access_token().access_token\n",
    "api = 'https://ml.googleapis.com/v1/projects/{}/models/{}/versions/{}:predict' \\\n",
    "         .format(PROJECT, MODEL_NAME, MODEL_VERSION)\n",
    "headers = {'Authorization': 'Bearer ' + token }\n",
    "data = {\n",
    "    \"instances\": [\n",
    "        {\n",
    "            \"filenames\": \"gs://cloud-ml-data/img/flower_photos/dandelion/9818247_e2eac18894.jpg\"\n",
    "        },\n",
    "        {\n",
    "            \"filenames\": \"gs://cloud-ml-data/img/flower_photos/dandelion/9853885425_4a82356f1d_m.jpg\"\n",
    "        },\n",
    "        {\n",
    "            \"filenames\": \"gs://cloud-ml-data/img/flower_photos/daisy/9299302012_958c70564c_n.jpg\"\n",
    "        },\n",
    "        {\n",
    "            \"filenames\": \"gs://cloud-ml-data/img/flower_photos/tulips/8733586143_3139db6e9e_n.jpg\"\n",
    "        },\n",
    "        {\n",
    "            \"filenames\": \"gs://cloud-ml-data/img/flower_photos/tulips/8713397358_0505cc0176_n.jpg\"\n",
    "        }\n",
    "    ]\n",
    "}\n",
    "response = requests.post(api, json=data, headers=headers)\n",
    "print(response.content)"
   ]
  },
  {
   "cell_type": "markdown",
   "metadata": {},
   "source": [
    "## CAIP Batch prediction"
   ]
  },
  {
   "cell_type": "code",
   "execution_count": 7,
   "metadata": {},
   "outputs": [
    {
     "name": "stdout",
     "output_type": "stream",
     "text": [
      "Overwriting batchinputs.json\n"
     ]
    }
   ],
   "source": [
    "%%writefile batchinputs.json\n",
    "{\"filenames\": \"gs://cloud-ml-data/img/flower_photos/dandelion/9818247_e2eac18894.jpg\"}\n",
    "{\"filenames\": \"gs://cloud-ml-data/img/flower_photos/dandelion/9853885425_4a82356f1d_m.jpg\"}\n",
    "{\"filenames\": \"gs://cloud-ml-data/img/flower_photos/daisy/9299302012_958c70564c_n.jpg\"}\n",
    "{\"filenames\": \"gs://cloud-ml-data/img/flower_photos/tulips/8733586143_3139db6e9e_n.jpg\"}\n",
    "{\"filenames\": \"gs://cloud-ml-data/img/flower_photos/tulips/8713397358_0505cc0176_n.jpg\"}"
   ]
  },
  {
   "cell_type": "code",
   "execution_count": null,
   "metadata": {},
   "outputs": [],
   "source": [
    "%%bash\n",
    "BUCKET='ai-analytics-solutions-kfpdemo' # CHANGE\n",
    "REGION=\"us-central1\"\n",
    "INPUT=gs://${BUCKET}/tmp/batchinputs.json\n",
    "OUTPUT=gs://${BUCKET}/tmp/batchoutputs.json\n",
    "gsutil cp batchinputs.json $INPUT\n",
    "gsutil -m rm -rf $OUTPUT \n",
    "gcloud ai-platform jobs submit prediction flowers_batchpred_$(date -u +%y%m%d_%H%M%S) \\\n",
    "  --data-format=TEXT --region ${REGION} \\\n",
    "  --input-paths=$INPUT \\\n",
    "  --output-path=$OUTPUT \\\n",
    "  --model=flowers --version=rest"
   ]
  },
  {
   "cell_type": "markdown",
   "metadata": {},
   "source": [
    "## Invoking from Apache Beam"
   ]
  },
  {
   "cell_type": "code",
   "execution_count": 21,
   "metadata": {},
   "outputs": [
    {
     "name": "stdout",
     "output_type": "stream",
     "text": [
      "{'flower_type_int': 1, 'flower_type_str': 'dandelion', 'probability': 0.6191519498825073, 'filename': 'gs://cloud-ml-data/img/flower_photos/dandelion/9818247_e2eac18894.jpg'}\n",
      "{'flower_type_int': 1, 'flower_type_str': 'dandelion', 'probability': 0.9999843835830688, 'filename': 'gs://cloud-ml-data/img/flower_photos/dandelion/9853885425_4a82356f1d_m.jpg'}\n",
      "{'flower_type_int': 0, 'flower_type_str': 'daisy', 'probability': 0.9950828552246094, 'filename': 'gs://cloud-ml-data/img/flower_photos/daisy/9299302012_958c70564c_n.jpg'}\n",
      "{'flower_type_int': 4, 'flower_type_str': 'tulips', 'probability': 0.9751859307289124, 'filename': 'gs://cloud-ml-data/img/flower_photos/tulips/8733586143_3139db6e9e_n.jpg'}\n",
      "{'flower_type_int': 4, 'flower_type_str': 'tulips', 'probability': 0.954916775226593, 'filename': 'gs://cloud-ml-data/img/flower_photos/tulips/8713397358_0505cc0176_n.jpg'}\n"
     ]
    }
   ],
   "source": [
    "import apache_beam as beam\n",
    "from oauth2client.client import GoogleCredentials\n",
    "import requests\n",
    "import json\n",
    "\n",
    "class ModelPredict:\n",
    "    def __init__(self, project, model_name, model_version):\n",
    "        self._api = ('https://ml.googleapis.com/v1/projects/{}/models/{}/versions/{}:predict'\n",
    "         .format(project, model_name, model_version))        \n",
    "        \n",
    "    def __call__(self, filenames):        \n",
    "        token = GoogleCredentials.get_application_default().get_access_token().access_token\n",
    "        if isinstance(filenames, str):\n",
    "            # only one element, put it into a batch of 1\n",
    "            data = {\n",
    "                \"instances\": [\n",
    "                    {\"filenames\": filenames}\n",
    "                ]\n",
    "            }\n",
    "        else:\n",
    "            data = {\n",
    "                \"instances\": []\n",
    "            }\n",
    "            for f in filenames:\n",
    "                data['instances'].append({\n",
    "                    \"filenames\" : f\n",
    "                })\n",
    "        # print(data)\n",
    "        headers = {'Authorization': 'Bearer ' + token }\n",
    "        response = requests.post(self._api, json=data, headers=headers)\n",
    "        response = json.loads(response.content.decode('utf-8'))\n",
    "        # print(response)\n",
    "        if isinstance(filenames, str):\n",
    "            result = response['predictions'][0]\n",
    "            result['filename'] = filenames\n",
    "            yield result\n",
    "        else:\n",
    "            for (a,b) in zip(filenames, response['predictions']):\n",
    "                result = b\n",
    "                result['filename'] = a\n",
    "                yield result\n",
    "\n",
    "\n",
    "PROJECT = 'ai-analytics-solutions' # CHANGE\n",
    "MODEL_NAME = 'flowers'\n",
    "MODEL_VERSION = 'rest'\n",
    "\n",
    "with beam.Pipeline() as p:    \n",
    "    (p \n",
    "     | 'input' >> beam.Create([\n",
    "        'gs://cloud-ml-data/img/flower_photos/dandelion/9818247_e2eac18894.jpg',\n",
    "        'gs://cloud-ml-data/img/flower_photos/dandelion/9853885425_4a82356f1d_m.jpg',\n",
    "        'gs://cloud-ml-data/img/flower_photos/daisy/9299302012_958c70564c_n.jpg',\n",
    "        'gs://cloud-ml-data/img/flower_photos/tulips/8733586143_3139db6e9e_n.jpg',\n",
    "        'gs://cloud-ml-data/img/flower_photos/tulips/8713397358_0505cc0176_n.jpg'\n",
    "     ]) \n",
    "     | 'batch' >> beam.BatchElements(min_batch_size=2, max_batch_size=3)\n",
    "     | 'addpred' >> beam.FlatMap( ModelPredict(PROJECT, MODEL_NAME, MODEL_VERSION) )\n",
    "     | 'write' >> beam.Map(print)\n",
    "    )"
   ]
  },
  {
   "cell_type": "markdown",
   "metadata": {
    "id": "Duu8mX3iXANE"
   },
   "source": [
    "## License\n",
    "Copyright 2020 Google Inc. Licensed under the Apache License, Version 2.0 (the \"License\"); you may not use this file except in compliance with the License. You may obtain a copy of the License at http://www.apache.org/licenses/LICENSE-2.0 Unless required by applicable law or agreed to in writing, software distributed under the License is distributed on an \"AS IS\" BASIS, WITHOUT WARRANTIES OR CONDITIONS OF ANY KIND, either express or implied. See the License for the specific language governing permissions and limitations under the License."
   ]
  }
 ],
 "metadata": {
  "accelerator": "GPU",
  "colab": {
   "collapsed_sections": [
    "5UOm2etrwYCs"
   ],
   "name": "03a_transfer_learning.ipynb",
   "provenance": [],
   "toc_visible": true
  },
  "environment": {
   "name": "tf2-2-3-gpu.2-3.m59",
   "type": "gcloud",
   "uri": "gcr.io/deeplearning-platform-release/tf2-2-3-gpu.2-3:m59"
  },
  "kernelspec": {
   "display_name": "Python 3",
   "language": "python",
   "name": "python3"
  },
  "language_info": {
   "codemirror_mode": {
    "name": "ipython",
    "version": 3
   },
   "file_extension": ".py",
   "mimetype": "text/x-python",
   "name": "python",
   "nbconvert_exporter": "python",
   "pygments_lexer": "ipython3",
   "version": "3.7.8"
  }
 },
 "nbformat": 4,
 "nbformat_minor": 4
}
